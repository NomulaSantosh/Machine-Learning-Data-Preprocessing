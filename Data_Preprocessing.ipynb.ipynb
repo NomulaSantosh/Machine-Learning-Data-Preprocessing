{
  "cells": [
    {
      "cell_type": "code",
      "execution_count": 3,
      "id": "ca0cb47f",
      "metadata": {
        "id": "ca0cb47f"
      },
      "outputs": [],
      "source": [
        "import numpy as np\n",
        "import pandas as pd"
      ]
    },
    {
      "cell_type": "code",
      "execution_count": 4,
      "id": "3be4cccb",
      "metadata": {
        "colab": {
          "base_uri": "https://localhost:8080/",
          "height": 363
        },
        "id": "3be4cccb",
        "outputId": "07ab53bb-56d0-4b23-cc32-6fe05a0f1c57"
      },
      "outputs": [
        {
          "output_type": "execute_result",
          "data": {
            "text/plain": [
              "   country age  salary purchased\n",
              "0   france   40  72000        No\n",
              "1    spain   27  48000       Yes\n",
              "2  germany   30  54000        No\n",
              "3    spain   38  61000        No\n",
              "4  germany   40    Nan       Yes\n",
              "5   france   35  58000       Yes\n",
              "6    spain  Nan  52000        No\n",
              "7   france   48  79000       Yes\n",
              "8  germany   50  83000        No\n",
              "9   france   37  67000       Yes"
            ],
            "text/html": [
              "\n",
              "  <div id=\"df-1246c3c0-a942-413a-88be-bfbbe1502317\">\n",
              "    <div class=\"colab-df-container\">\n",
              "      <div>\n",
              "<style scoped>\n",
              "    .dataframe tbody tr th:only-of-type {\n",
              "        vertical-align: middle;\n",
              "    }\n",
              "\n",
              "    .dataframe tbody tr th {\n",
              "        vertical-align: top;\n",
              "    }\n",
              "\n",
              "    .dataframe thead th {\n",
              "        text-align: right;\n",
              "    }\n",
              "</style>\n",
              "<table border=\"1\" class=\"dataframe\">\n",
              "  <thead>\n",
              "    <tr style=\"text-align: right;\">\n",
              "      <th></th>\n",
              "      <th>country</th>\n",
              "      <th>age</th>\n",
              "      <th>salary</th>\n",
              "      <th>purchased</th>\n",
              "    </tr>\n",
              "  </thead>\n",
              "  <tbody>\n",
              "    <tr>\n",
              "      <th>0</th>\n",
              "      <td>france</td>\n",
              "      <td>40</td>\n",
              "      <td>72000</td>\n",
              "      <td>No</td>\n",
              "    </tr>\n",
              "    <tr>\n",
              "      <th>1</th>\n",
              "      <td>spain</td>\n",
              "      <td>27</td>\n",
              "      <td>48000</td>\n",
              "      <td>Yes</td>\n",
              "    </tr>\n",
              "    <tr>\n",
              "      <th>2</th>\n",
              "      <td>germany</td>\n",
              "      <td>30</td>\n",
              "      <td>54000</td>\n",
              "      <td>No</td>\n",
              "    </tr>\n",
              "    <tr>\n",
              "      <th>3</th>\n",
              "      <td>spain</td>\n",
              "      <td>38</td>\n",
              "      <td>61000</td>\n",
              "      <td>No</td>\n",
              "    </tr>\n",
              "    <tr>\n",
              "      <th>4</th>\n",
              "      <td>germany</td>\n",
              "      <td>40</td>\n",
              "      <td>Nan</td>\n",
              "      <td>Yes</td>\n",
              "    </tr>\n",
              "    <tr>\n",
              "      <th>5</th>\n",
              "      <td>france</td>\n",
              "      <td>35</td>\n",
              "      <td>58000</td>\n",
              "      <td>Yes</td>\n",
              "    </tr>\n",
              "    <tr>\n",
              "      <th>6</th>\n",
              "      <td>spain</td>\n",
              "      <td>Nan</td>\n",
              "      <td>52000</td>\n",
              "      <td>No</td>\n",
              "    </tr>\n",
              "    <tr>\n",
              "      <th>7</th>\n",
              "      <td>france</td>\n",
              "      <td>48</td>\n",
              "      <td>79000</td>\n",
              "      <td>Yes</td>\n",
              "    </tr>\n",
              "    <tr>\n",
              "      <th>8</th>\n",
              "      <td>germany</td>\n",
              "      <td>50</td>\n",
              "      <td>83000</td>\n",
              "      <td>No</td>\n",
              "    </tr>\n",
              "    <tr>\n",
              "      <th>9</th>\n",
              "      <td>france</td>\n",
              "      <td>37</td>\n",
              "      <td>67000</td>\n",
              "      <td>Yes</td>\n",
              "    </tr>\n",
              "  </tbody>\n",
              "</table>\n",
              "</div>\n",
              "      <button class=\"colab-df-convert\" onclick=\"convertToInteractive('df-1246c3c0-a942-413a-88be-bfbbe1502317')\"\n",
              "              title=\"Convert this dataframe to an interactive table.\"\n",
              "              style=\"display:none;\">\n",
              "        \n",
              "  <svg xmlns=\"http://www.w3.org/2000/svg\" height=\"24px\"viewBox=\"0 0 24 24\"\n",
              "       width=\"24px\">\n",
              "    <path d=\"M0 0h24v24H0V0z\" fill=\"none\"/>\n",
              "    <path d=\"M18.56 5.44l.94 2.06.94-2.06 2.06-.94-2.06-.94-.94-2.06-.94 2.06-2.06.94zm-11 1L8.5 8.5l.94-2.06 2.06-.94-2.06-.94L8.5 2.5l-.94 2.06-2.06.94zm10 10l.94 2.06.94-2.06 2.06-.94-2.06-.94-.94-2.06-.94 2.06-2.06.94z\"/><path d=\"M17.41 7.96l-1.37-1.37c-.4-.4-.92-.59-1.43-.59-.52 0-1.04.2-1.43.59L10.3 9.45l-7.72 7.72c-.78.78-.78 2.05 0 2.83L4 21.41c.39.39.9.59 1.41.59.51 0 1.02-.2 1.41-.59l7.78-7.78 2.81-2.81c.8-.78.8-2.07 0-2.86zM5.41 20L4 18.59l7.72-7.72 1.47 1.35L5.41 20z\"/>\n",
              "  </svg>\n",
              "      </button>\n",
              "      \n",
              "  <style>\n",
              "    .colab-df-container {\n",
              "      display:flex;\n",
              "      flex-wrap:wrap;\n",
              "      gap: 12px;\n",
              "    }\n",
              "\n",
              "    .colab-df-convert {\n",
              "      background-color: #E8F0FE;\n",
              "      border: none;\n",
              "      border-radius: 50%;\n",
              "      cursor: pointer;\n",
              "      display: none;\n",
              "      fill: #1967D2;\n",
              "      height: 32px;\n",
              "      padding: 0 0 0 0;\n",
              "      width: 32px;\n",
              "    }\n",
              "\n",
              "    .colab-df-convert:hover {\n",
              "      background-color: #E2EBFA;\n",
              "      box-shadow: 0px 1px 2px rgba(60, 64, 67, 0.3), 0px 1px 3px 1px rgba(60, 64, 67, 0.15);\n",
              "      fill: #174EA6;\n",
              "    }\n",
              "\n",
              "    [theme=dark] .colab-df-convert {\n",
              "      background-color: #3B4455;\n",
              "      fill: #D2E3FC;\n",
              "    }\n",
              "\n",
              "    [theme=dark] .colab-df-convert:hover {\n",
              "      background-color: #434B5C;\n",
              "      box-shadow: 0px 1px 3px 1px rgba(0, 0, 0, 0.15);\n",
              "      filter: drop-shadow(0px 1px 2px rgba(0, 0, 0, 0.3));\n",
              "      fill: #FFFFFF;\n",
              "    }\n",
              "  </style>\n",
              "\n",
              "      <script>\n",
              "        const buttonEl =\n",
              "          document.querySelector('#df-1246c3c0-a942-413a-88be-bfbbe1502317 button.colab-df-convert');\n",
              "        buttonEl.style.display =\n",
              "          google.colab.kernel.accessAllowed ? 'block' : 'none';\n",
              "\n",
              "        async function convertToInteractive(key) {\n",
              "          const element = document.querySelector('#df-1246c3c0-a942-413a-88be-bfbbe1502317');\n",
              "          const dataTable =\n",
              "            await google.colab.kernel.invokeFunction('convertToInteractive',\n",
              "                                                     [key], {});\n",
              "          if (!dataTable) return;\n",
              "\n",
              "          const docLinkHtml = 'Like what you see? Visit the ' +\n",
              "            '<a target=\"_blank\" href=https://colab.research.google.com/notebooks/data_table.ipynb>data table notebook</a>'\n",
              "            + ' to learn more about interactive tables.';\n",
              "          element.innerHTML = '';\n",
              "          dataTable['output_type'] = 'display_data';\n",
              "          await google.colab.output.renderOutput(dataTable, element);\n",
              "          const docLink = document.createElement('div');\n",
              "          docLink.innerHTML = docLinkHtml;\n",
              "          element.appendChild(docLink);\n",
              "        }\n",
              "      </script>\n",
              "    </div>\n",
              "  </div>\n",
              "  "
            ]
          },
          "metadata": {},
          "execution_count": 4
        }
      ],
      "source": [
        "df = pd.read_csv('/content/data.csv')\n",
        "df"
      ]
    },
    {
      "cell_type": "code",
      "execution_count": 5,
      "id": "b46d08e3",
      "metadata": {
        "id": "b46d08e3"
      },
      "outputs": [],
      "source": [
        "X = df[['country','age ','salary']].values"
      ]
    },
    {
      "cell_type": "code",
      "execution_count": 6,
      "id": "e7be5559",
      "metadata": {
        "colab": {
          "base_uri": "https://localhost:8080/"
        },
        "id": "e7be5559",
        "outputId": "f8af07a3-466e-48c2-bfd1-8129eb8f24b5"
      },
      "outputs": [
        {
          "output_type": "execute_result",
          "data": {
            "text/plain": [
              "array([['france', '40', '72000'],\n",
              "       ['spain', '27', '48000'],\n",
              "       ['germany', '30', '54000'],\n",
              "       ['spain', '38', '61000'],\n",
              "       ['germany', '40', 'Nan'],\n",
              "       ['france', '35', '58000'],\n",
              "       ['spain', 'Nan', '52000'],\n",
              "       ['france', '48', '79000'],\n",
              "       ['germany', '50', '83000'],\n",
              "       ['france', '37', '67000']], dtype=object)"
            ]
          },
          "metadata": {},
          "execution_count": 6
        }
      ],
      "source": [
        "X# after typing .values we will get array"
      ]
    },
    {
      "cell_type": "code",
      "execution_count": 7,
      "id": "6d748266",
      "metadata": {
        "id": "6d748266"
      },
      "outputs": [],
      "source": [
        "y = df[['purchased']].values"
      ]
    },
    {
      "cell_type": "code",
      "execution_count": 8,
      "id": "45bb2034",
      "metadata": {
        "colab": {
          "base_uri": "https://localhost:8080/"
        },
        "id": "45bb2034",
        "outputId": "d91271d8-1a92-4112-d208-13be8b799acd"
      },
      "outputs": [
        {
          "output_type": "execute_result",
          "data": {
            "text/plain": [
              "array([['No'],\n",
              "       ['Yes'],\n",
              "       ['No'],\n",
              "       ['No'],\n",
              "       ['Yes'],\n",
              "       ['Yes'],\n",
              "       ['No'],\n",
              "       ['Yes'],\n",
              "       ['No'],\n",
              "       ['Yes']], dtype=object)"
            ]
          },
          "metadata": {},
          "execution_count": 8
        }
      ],
      "source": [
        "y"
      ]
    },
    {
      "cell_type": "code",
      "execution_count": 9,
      "id": "2ea161d9",
      "metadata": {
        "id": "2ea161d9"
      },
      "outputs": [],
      "source": [
        "from sklearn.impute import SimpleImputer "
      ]
    },
    {
      "cell_type": "code",
      "execution_count": 10,
      "id": "b676e989",
      "metadata": {
        "id": "b676e989"
      },
      "outputs": [],
      "source": [
        "imputer = SimpleImputer(missing_values=np.nan,strategy='mean') #we're keeping np.nan bcoz our data in array form"
      ]
    },
    {
      "cell_type": "code",
      "execution_count": 11,
      "id": "0aba869f",
      "metadata": {
        "colab": {
          "base_uri": "https://localhost:8080/"
        },
        "id": "0aba869f",
        "outputId": "09c71ec6-a68d-49eb-ceab-023caf12e206"
      },
      "outputs": [
        {
          "output_type": "execute_result",
          "data": {
            "text/plain": [
              "SimpleImputer()"
            ]
          },
          "metadata": {},
          "execution_count": 11
        }
      ],
      "source": [
        "imputer"
      ]
    },
    {
      "cell_type": "code",
      "execution_count": 12,
      "id": "f2ea48d3",
      "metadata": {
        "id": "f2ea48d3"
      },
      "outputs": [],
      "source": [
        "imputer = imputer.fit(X[:,1:3]) # x[:,1:3] means we're taking all rows for this (:) and we have null values in the columns of age and salary so if we take (1:3) we will include columns of country , age, salary"
      ]
    },
    {
      "cell_type": "code",
      "execution_count": 13,
      "id": "f4a2752f",
      "metadata": {
        "id": "f4a2752f"
      },
      "outputs": [],
      "source": [
        "X[:,1:3] = imputer.transform(X[:,1:3]) #this transform will help you replace the missing values with mean values "
      ]
    },
    {
      "cell_type": "code",
      "execution_count": 14,
      "id": "c6462179",
      "metadata": {
        "colab": {
          "base_uri": "https://localhost:8080/"
        },
        "id": "c6462179",
        "outputId": "66ce85c7-6a8d-492f-f7a1-b29c83fd3e7a"
      },
      "outputs": [
        {
          "output_type": "execute_result",
          "data": {
            "text/plain": [
              "array([[40.0, 72000.0],\n",
              "       [27.0, 48000.0],\n",
              "       [30.0, 54000.0],\n",
              "       [38.0, 61000.0],\n",
              "       [40.0, 63777.77777777778],\n",
              "       [35.0, 58000.0],\n",
              "       [38.333333333333336, 52000.0],\n",
              "       [48.0, 79000.0],\n",
              "       [50.0, 83000.0],\n",
              "       [37.0, 67000.0]], dtype=object)"
            ]
          },
          "metadata": {},
          "execution_count": 14
        }
      ],
      "source": [
        "X[:,1:3]"
      ]
    },
    {
      "cell_type": "code",
      "execution_count": 15,
      "id": "b05c394d",
      "metadata": {
        "id": "b05c394d"
      },
      "outputs": [],
      "source": [
        "#encoding categorical data\n",
        "\n",
        "from sklearn.preprocessing import LabelEncoder#this labelencoder will helps to convert non-numerical labels to numeric labels\n",
        "\n",
        "label_encoder_X=LabelEncoder()"
      ]
    },
    {
      "cell_type": "code",
      "execution_count": 16,
      "id": "10c11288",
      "metadata": {
        "id": "10c11288"
      },
      "outputs": [],
      "source": [
        "X[:,0] = label_encoder_X.fit_transform(X[:,0]) # we have to use fit_transform bcoz The fit_transform() method does both \n",
        "#fits and transform we have to prefer fit_transform in label_encoder it's best \n",
        "# x[:,0] means we're taking all rows and secting the column 'country' = 0th column"
      ]
    },
    {
      "cell_type": "code",
      "execution_count": 17,
      "id": "fd962347",
      "metadata": {
        "colab": {
          "base_uri": "https://localhost:8080/"
        },
        "id": "fd962347",
        "outputId": "30442e0c-f54a-4825-dddb-dd27bc88b3f4"
      },
      "outputs": [
        {
          "output_type": "execute_result",
          "data": {
            "text/plain": [
              "array([0, 2, 1, 2, 1, 0, 2, 0, 1, 0], dtype=object)"
            ]
          },
          "metadata": {},
          "execution_count": 17
        }
      ],
      "source": [
        "X[:,0]"
      ]
    },
    {
      "cell_type": "code",
      "execution_count": 18,
      "id": "3f0013b7",
      "metadata": {
        "colab": {
          "base_uri": "https://localhost:8080/"
        },
        "id": "3f0013b7",
        "outputId": "366419f9-39e8-4f7f-9a21-0a833399e66b"
      },
      "outputs": [
        {
          "output_type": "execute_result",
          "data": {
            "text/plain": [
              "array([[0, 40.0, 72000.0],\n",
              "       [2, 27.0, 48000.0],\n",
              "       [1, 30.0, 54000.0],\n",
              "       [2, 38.0, 61000.0],\n",
              "       [1, 40.0, 63777.77777777778],\n",
              "       [0, 35.0, 58000.0],\n",
              "       [2, 38.333333333333336, 52000.0],\n",
              "       [0, 48.0, 79000.0],\n",
              "       [1, 50.0, 83000.0],\n",
              "       [0, 37.0, 67000.0]], dtype=object)"
            ]
          },
          "metadata": {},
          "execution_count": 18
        }
      ],
      "source": [
        "X #now if you see clearly france is 0,spain is 2, germany is 1 "
      ]
    },
    {
      "cell_type": "code",
      "execution_count": 19,
      "id": "0c305253",
      "metadata": {
        "id": "0c305253"
      },
      "outputs": [],
      "source": [
        "#after converting this our ml sometimes confuse bcoz france is 0,spain is 2, germany is 1 so it may think spain is greater than \n",
        "#france bcoz 0 and 1 so to solve this we use dummy encoding.\n",
        "#If it was decision tree it will not confuse and we don't need to change this into dummy encoding\n",
        "from sklearn.preprocessing import OneHotEncoder\n",
        "\n",
        "onehotencode_X = OneHotEncoder()"
      ]
    },
    {
      "cell_type": "code",
      "execution_count": 20,
      "id": "5bf016e7",
      "metadata": {
        "colab": {
          "base_uri": "https://localhost:8080/"
        },
        "id": "5bf016e7",
        "outputId": "8fa00b25-d791-4290-f61e-020da68f86b6"
      },
      "outputs": [
        {
          "output_type": "execute_result",
          "data": {
            "text/plain": [
              "array([[1., 0., 0.],\n",
              "       [0., 0., 1.],\n",
              "       [0., 1., 0.],\n",
              "       [0., 0., 1.],\n",
              "       [0., 1., 0.],\n",
              "       [1., 0., 0.],\n",
              "       [0., 0., 1.],\n",
              "       [1., 0., 0.],\n",
              "       [0., 1., 0.],\n",
              "       [1., 0., 0.]])"
            ]
          },
          "metadata": {},
          "execution_count": 20
        }
      ],
      "source": [
        "onehotencode_X.fit_transform(df.country.values.reshape(-1,1)).toarray()\n",
        "\n",
        "#        france   germany  spain\n",
        "# france     1        0       0\n",
        "#                                    ----->>  This is dummy encoding \n",
        "# spain      0        0       1\n",
        "                                \n",
        "# germany    0        1       0"
      ]
    },
    {
      "cell_type": "code",
      "execution_count": 21,
      "id": "769ffd7a",
      "metadata": {
        "id": "769ffd7a"
      },
      "outputs": [],
      "source": [
        "label_encoder_y = LabelEncoder()"
      ]
    },
    {
      "cell_type": "code",
      "execution_count": 22,
      "id": "24334127",
      "metadata": {
        "colab": {
          "base_uri": "https://localhost:8080/"
        },
        "id": "24334127",
        "outputId": "da8f16a7-587f-453c-b1f0-f58f94f683c4"
      },
      "outputs": [
        {
          "output_type": "stream",
          "name": "stderr",
          "text": [
            "/usr/local/lib/python3.8/dist-packages/sklearn/preprocessing/_label.py:115: DataConversionWarning: A column-vector y was passed when a 1d array was expected. Please change the shape of y to (n_samples, ), for example using ravel().\n",
            "  y = column_or_1d(y, warn=True)\n"
          ]
        }
      ],
      "source": [
        "y = label_encoder_y.fit_transform(y)"
      ]
    },
    {
      "cell_type": "code",
      "execution_count": 23,
      "id": "7afea859",
      "metadata": {
        "colab": {
          "base_uri": "https://localhost:8080/"
        },
        "id": "7afea859",
        "outputId": "e3bcd12a-736c-4777-a55f-0e102c13b3f0"
      },
      "outputs": [
        {
          "output_type": "execute_result",
          "data": {
            "text/plain": [
              "array([0, 1, 0, 0, 1, 1, 0, 1, 0, 1])"
            ]
          },
          "metadata": {},
          "execution_count": 23
        }
      ],
      "source": [
        "y"
      ]
    },
    {
      "cell_type": "code",
      "execution_count": 24,
      "id": "69d6b638",
      "metadata": {
        "id": "69d6b638"
      },
      "outputs": [],
      "source": [
        "#split the data into training and testing data\n",
        "\n",
        "from sklearn.model_selection import train_test_split\n",
        "\n",
        "X_train,X_test,y_train,y_test = train_test_split(X, y,test_size = 0.2,random_state = 0)"
      ]
    },
    {
      "cell_type": "code",
      "execution_count": 25,
      "id": "7a9a6591",
      "metadata": {
        "colab": {
          "base_uri": "https://localhost:8080/"
        },
        "id": "7a9a6591",
        "outputId": "59793606-e3c7-42a3-9c6d-83bea97d8312"
      },
      "outputs": [
        {
          "output_type": "execute_result",
          "data": {
            "text/plain": [
              "array([[1, 40.0, 63777.77777777778],\n",
              "       [0, 37.0, 67000.0],\n",
              "       [2, 27.0, 48000.0],\n",
              "       [2, 38.333333333333336, 52000.0],\n",
              "       [0, 48.0, 79000.0],\n",
              "       [2, 38.0, 61000.0],\n",
              "       [0, 40.0, 72000.0],\n",
              "       [0, 35.0, 58000.0]], dtype=object)"
            ]
          },
          "metadata": {},
          "execution_count": 25
        }
      ],
      "source": [
        "X_train"
      ]
    },
    {
      "cell_type": "code",
      "execution_count": 26,
      "id": "fd9c4815",
      "metadata": {
        "colab": {
          "base_uri": "https://localhost:8080/"
        },
        "id": "fd9c4815",
        "outputId": "91fb1a6c-91d7-4d79-8dbc-04bc8090ca7f"
      },
      "outputs": [
        {
          "output_type": "execute_result",
          "data": {
            "text/plain": [
              "array([[1, 30.0, 54000.0],\n",
              "       [1, 50.0, 83000.0]], dtype=object)"
            ]
          },
          "metadata": {},
          "execution_count": 26
        }
      ],
      "source": [
        "X_test"
      ]
    },
    {
      "cell_type": "code",
      "execution_count": 27,
      "id": "9cfd6fd6",
      "metadata": {
        "colab": {
          "base_uri": "https://localhost:8080/"
        },
        "id": "9cfd6fd6",
        "outputId": "3d3bad0c-6321-418b-d640-571a76608ae5"
      },
      "outputs": [
        {
          "output_type": "execute_result",
          "data": {
            "text/plain": [
              "array([1, 1, 1, 0, 1, 0, 0, 1])"
            ]
          },
          "metadata": {},
          "execution_count": 27
        }
      ],
      "source": [
        "y_train"
      ]
    },
    {
      "cell_type": "code",
      "execution_count": 28,
      "id": "481d1c93",
      "metadata": {
        "colab": {
          "base_uri": "https://localhost:8080/"
        },
        "id": "481d1c93",
        "outputId": "3de3d194-2926-4b2d-e3a1-7d44a73e27a0"
      },
      "outputs": [
        {
          "output_type": "execute_result",
          "data": {
            "text/plain": [
              "array([0, 0])"
            ]
          },
          "metadata": {},
          "execution_count": 28
        }
      ],
      "source": [
        "y_test"
      ]
    },
    {
      "cell_type": "code",
      "execution_count": 29,
      "id": "aad03713",
      "metadata": {
        "id": "aad03713"
      },
      "outputs": [],
      "source": [
        "from sklearn.preprocessing import StandardScaler"
      ]
    },
    {
      "cell_type": "code",
      "execution_count": 30,
      "id": "520fcf15",
      "metadata": {
        "id": "520fcf15"
      },
      "outputs": [],
      "source": [
        "sc_x = StandardScaler()"
      ]
    },
    {
      "cell_type": "code",
      "execution_count": 31,
      "id": "98bc9c11",
      "metadata": {
        "id": "98bc9c11"
      },
      "outputs": [],
      "source": [
        "X_train = sc_x.fit_transform(X_train)"
      ]
    },
    {
      "cell_type": "code",
      "execution_count": 32,
      "id": "001564ca",
      "metadata": {
        "id": "001564ca"
      },
      "outputs": [],
      "source": [
        "X_test = sc_x.transform(X_test)"
      ]
    },
    {
      "cell_type": "code",
      "execution_count": 33,
      "id": "9b8ab76e",
      "metadata": {
        "colab": {
          "base_uri": "https://localhost:8080/"
        },
        "id": "9b8ab76e",
        "outputId": "b015ac37-57a4-4d95-d512-add587efa329"
      },
      "outputs": [
        {
          "output_type": "execute_result",
          "data": {
            "text/plain": [
              "array([[ 0.13483997,  0.3811135 ,  0.12381479],\n",
              "       [-0.94387981, -0.16768994,  0.46175632],\n",
              "       [ 1.21355975, -1.99703475, -1.53093341],\n",
              "       [ 1.21355975,  0.0762227 , -1.11141978],\n",
              "       [-0.94387981,  1.84458935,  1.7202972 ],\n",
              "       [ 1.21355975,  0.01524454, -0.16751412],\n",
              "       [-0.94387981,  0.3811135 ,  0.98614835],\n",
              "       [-0.94387981, -0.5335589 , -0.48214934]])"
            ]
          },
          "metadata": {},
          "execution_count": 33
        }
      ],
      "source": [
        "X_train #we just get the scaled value for X_train in feature scaling or standard scaler"
      ]
    },
    {
      "cell_type": "code",
      "execution_count": 34,
      "id": "25e49faf",
      "metadata": {
        "colab": {
          "base_uri": "https://localhost:8080/"
        },
        "id": "25e49faf",
        "outputId": "2f483e24-07e0-4d06-c344-d6c3494d32dd"
      },
      "outputs": [
        {
          "output_type": "execute_result",
          "data": {
            "text/plain": [
              "array([[ 0.13483997, -1.44823131, -0.90166297],\n",
              "       [ 0.13483997,  2.21045831,  2.13981082]])"
            ]
          },
          "metadata": {},
          "execution_count": 34
        }
      ],
      "source": [
        "X_test"
      ]
    },
    {
      "cell_type": "code",
      "execution_count": 35,
      "id": "cbbdd22d",
      "metadata": {
        "id": "cbbdd22d"
      },
      "outputs": [],
      "source": []
    }
  ],
  "metadata": {
    "kernelspec": {
      "display_name": "Python 3.8 (tensorflow)",
      "language": "python",
      "name": "tensorflow"
    },
    "language_info": {
      "codemirror_mode": {
        "name": "ipython",
        "version": 3
      },
      "file_extension": ".py",
      "mimetype": "text/x-python",
      "name": "python",
      "nbconvert_exporter": "python",
      "pygments_lexer": "ipython3",
      "version": "3.9.15"
    },
    "colab": {
      "provenance": []
    }
  },
  "nbformat": 4,
  "nbformat_minor": 5
}